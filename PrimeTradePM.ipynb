{
  "nbformat": 4,
  "nbformat_minor": 0,
  "metadata": {
    "colab": {
      "provenance": []
    },
    "kernelspec": {
      "name": "python3",
      "display_name": "Python 3"
    },
    "language_info": {
      "name": "python"
    }
  },
  "cells": [
    {
      "cell_type": "markdown",
      "source": [],
      "metadata": {
        "id": "6QuxKyLIYKDU"
      }
    },
    {
      "cell_type": "markdown",
      "source": [
        "PREDICTIVE MODEL"
      ],
      "metadata": {
        "id": "-KaB95mnYOFU"
      }
    },
    {
      "cell_type": "code",
      "source": [
        "import pandas as pd\n",
        "import numpy as np\n",
        "import matplotlib.pyplot as plt\n",
        "import os\n"
      ],
      "metadata": {
        "id": "EsK5ycuEYNX7"
      },
      "execution_count": 1,
      "outputs": []
    },
    {
      "cell_type": "code",
      "source": [
        "hist = pd.read_csv('historical_data.csv')\n",
        "fg = pd.read_csv('fear_greed_index.csv')"
      ],
      "metadata": {
        "colab": {
          "base_uri": "https://localhost:8080/"
        },
        "id": "1eGBVUD9Yc7H",
        "outputId": "83436cc2-f7b9-4412-e3cf-2fba8610e986"
      },
      "execution_count": 2,
      "outputs": [
        {
          "output_type": "stream",
          "name": "stderr",
          "text": [
            "/tmp/ipython-input-3129335900.py:1: DtypeWarning: Columns (12) have mixed types. Specify dtype option on import or set low_memory=False.\n",
            "  hist = pd.read_csv('historical_data.csv')\n"
          ]
        }
      ]
    },
    {
      "cell_type": "code",
      "source": [
        "hist['time'] = pd.to_datetime(hist['Timestamp IST'], errors='coerce')\n",
        "fg['date'] = pd.to_datetime(fg['date'], errors='coerce')\n",
        "hist['date'] = hist['time'].dt.floor('D')\n",
        "\n",
        "fg['sentiment_score'] = fg['classification'].str.lower().map({\n",
        "    'fear': 0,\n",
        "    'extreme fear': 0,\n",
        "    'greed': 1,\n",
        "    'extreme greed': 1,\n",
        "    'neutral': 0.5\n",
        "})"
      ],
      "metadata": {
        "id": "uBQnGqNDZHZ1"
      },
      "execution_count": 5,
      "outputs": []
    },
    {
      "cell_type": "code",
      "source": [
        "daily_trades = hist.groupby('date').agg(\n",
        "    trades_count=('Account', 'count'),\n",
        "    total_volume=('Size USD', 'sum'),\n",
        "    avg_leverage=('Start Position', 'mean'),\n",
        "    net_pnl=('Closed PnL', 'sum')\n",
        ").reset_index()\n",
        "\n",
        "daily = daily_trades.merge(fg[['date', 'sentiment_score']], on='date', how='left')"
      ],
      "metadata": {
        "id": "NW9oKwgMZAvi"
      },
      "execution_count": 8,
      "outputs": []
    },
    {
      "cell_type": "code",
      "source": [
        "from sklearn.model_selection import train_test_split\n",
        "from sklearn.ensemble import RandomForestClassifier\n",
        "from sklearn.metrics import classification_report\n",
        "\n",
        "daily['profitable'] = (daily['net_pnl'] > 0).astype(int)\n",
        "X = daily[['sentiment_score', 'trades_count', 'total_volume', 'avg_leverage']]\n",
        "y = daily['profitable']\n",
        "X_train, X_test, y_train, y_test = train_test_split(X, y, test_size=0.2, random_state=42)\n",
        "\n",
        "clf = RandomForestClassifier(n_estimators=100, random_state=42)\n",
        "clf.fit(X_train, y_train)\n",
        "y_pred = clf.predict(X_test)\n",
        "\n",
        "print(\"Model Accuracy:\", clf.score(X_test, y_test))\n",
        "print(classification_report(y_test, y_pred))\n"
      ],
      "metadata": {
        "colab": {
          "base_uri": "https://localhost:8080/"
        },
        "id": "kyD1cQN4Yp-a",
        "outputId": "1d73cd3a-486e-4e4a-c1cd-cd403e08e05f"
      },
      "execution_count": 9,
      "outputs": [
        {
          "output_type": "stream",
          "name": "stdout",
          "text": [
            "Model Accuracy: 0.8157894736842105\n",
            "              precision    recall  f1-score   support\n",
            "\n",
            "           0       0.50      0.29      0.36         7\n",
            "           1       0.85      0.94      0.89        31\n",
            "\n",
            "    accuracy                           0.82        38\n",
            "   macro avg       0.68      0.61      0.63        38\n",
            "weighted avg       0.79      0.82      0.79        38\n",
            "\n"
          ]
        }
      ]
    },
    {
      "cell_type": "code",
      "source": [],
      "metadata": {
        "id": "B-fsD_-gY0uL"
      },
      "execution_count": null,
      "outputs": []
    }
  ]
}